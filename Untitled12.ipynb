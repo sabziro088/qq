{
  "nbformat": 4,
  "nbformat_minor": 0,
  "metadata": {
    "colab": {
      "provenance": []
    },
    "kernelspec": {
      "name": "python3",
      "display_name": "Python 3"
    },
    "language_info": {
      "name": "python"
    }
  },
  "cells": [
    {
      "cell_type": "code",
      "source": [
        "import pandas as pd\n",
        "import numpy as np\n",
        "from sklearn.model_selection import train_test_split\n",
        "from sklearn.linear_model import LogisticRegression\n",
        "from sklearn.neighbors import KNeighborsClassifier\n",
        "from sklearn.metrics import f1_score\n",
        "\n",
        "data = pd.read_csv('/content/titanic.csv')\n",
        "\n",
        "categorical_features = ['Pclass', 'Name', 'Gender', 'SibSp', 'Parch', 'Ticket', 'Fare', 'Cabin', 'Embarked']\n",
        "numerical_features = [feature for feature in data.columns if feature not in categorical_features]\n",
        "х\n",
        "for feature in categorical_features:\n",
        "    data[feature].fillna(data[feature].mode()[0], inplace=True)\n",
        "\n",
        "for feature in numerical_features:\n",
        "    data[feature].fillna(data[feature].mean(), inplace=True)\n",
        "\n",
        "data = data.drop(categorical_features, axis=1)\n",
        "\n",
        "X = data.drop('Survived', axis=1)\n",
        "y = data['Survived']\n",
        "\n",
        "X_train, X_test, y_train, y_test = train_test_split(X, y, test_size=0.2, random_state=42)\n",
        "\n",
        "log_reg = LogisticRegression()\n",
        "knn = KNeighborsClassifier()\n",
        "\n",
        "log_reg.fit(X_train, y_train)\n",
        "knn.fit(X_train, y_train)\n",
        "\n",
        "y_pred_log_reg = log_reg.predict(X_test)\n",
        "y_pred_knn = knn.predict(X_test)\n",
        "\n",
        "f1_score_log_reg = f1_score(y_test, y_pred_log_reg)\n",
        "f1_score_knn = f1_score(y_test, y_pred_knn)\n",
        "\n",
        "print(f'F1-score для логистической регрессии: {f1_score_log_reg}')\n",
        "print(f'F1-score для метода ближайших соседей: {f1_score_knn}')\n",
        "\n",
        "if f1_score_log_reg > f1_score_knn:\n",
        "    print('Логистическая регрессия показала лучший результат.')\n",
        "elif f1_score_log_reg < f1_score_knn:\n",
        "    print('Метод ближайших соседей показал лучший результат.')\n",
        "else:\n",
        "    print('Обе модели показали одинаковый результат.')"
      ],
      "metadata": {
        "colab": {
          "base_uri": "https://localhost:8080/"
        },
        "id": "e-acZ3WmsUsm",
        "outputId": "150cfa62-7868-4304-a222-28bed96d23bc"
      },
      "execution_count": 17,
      "outputs": [
        {
          "output_type": "stream",
          "name": "stdout",
          "text": [
            "F1-score для логистической регрессии: 0.0\n",
            "F1-score для метода ближайших соседей: 0.3471074380165289\n",
            "Метод ближайших соседей показал лучший результат.\n"
          ]
        }
      ]
    }
  ]
}